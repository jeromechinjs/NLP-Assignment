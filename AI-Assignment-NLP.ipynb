{
 "cells": [
  {
   "cell_type": "markdown",
   "metadata": {},
   "source": [
    "#Hi there\n",
    "\n",
    "\n",
    "---\n",
    "\n",
    "**Resources**\n",
    "*   https://www.geeksforgeeks.org/what-is-sentiment-analysis/ (intro)\n",
    "*   https://www.nltk.org/api/nltk.tokenize.html (tokenize - separate sentence into words)\n",
    "*   https://youtu.be/9p1KYtYAus8 (vader lexicon tutorial - for sentiment analysis)\n",
    "*   dataset (#56 from https://www.nltk.org/nltk_data/)\n",
    "*   dataset downloaded from https://www.kaggle.com/datasets/mdwaquarazam/headphone-dataset-review-analysis\n",
    "\n",
    "<br>\n",
    "\n",
    "\n",
    "<br>\n",
    "Documents (bg study, methods etc will do later)\n",
    "\n",
    "> Step 1: Count vectorizer (frequency each words appeared), then identify similarity (use cosine similarity equation, correlation etc.)\n",
    "\n",
    "> Step 2: Tokenize, Pre-process comments, then do sentiment analysis\n",
    "\n",
    "> Step 3: each of us will choose our preferred method (bayes, knn, k-means)\n",
    "\n",
    "> Step 4: compare the results (from using different methods)\n",
    "\n",
    "*lastly, complete our documents then submit :)\n",
    "\n",
    "\n",
    "\n",
    "\n",
    "\n"
   ]
  },
  {
   "cell_type": "code",
   "execution_count": null,
   "metadata": {},
   "outputs": [],
   "source": [
    "%pip install nltk\n",
    "%pip install pandas"
   ]
  },
  {
   "cell_type": "code",
   "execution_count": 5,
   "metadata": {},
   "outputs": [],
   "source": [
    "# enter: pip install nltk  (when using python)\n",
    "\n",
    "import nltk\n",
    "import pandas as pd    # redundant if run the above codes\n",
    "import random"
   ]
  },
  {
   "cell_type": "code",
   "execution_count": null,
   "metadata": {},
   "outputs": [],
   "source": [
    "data = pd.read_csv('headphone_datn.csv')\n",
    "nltk.download()\n",
    "nltk.download('state_union')\n",
    "nltk.download('stopwords')"
   ]
  },
  {
   "cell_type": "code",
   "execution_count": null,
   "metadata": {},
   "outputs": [],
   "source": [
    "data.head()\n",
    "total = data.count()\n",
    "print(total)"
   ]
  },
  {
   "cell_type": "code",
   "execution_count": null,
   "metadata": {},
   "outputs": [],
   "source": [
    "words = [w for w in nltk.corpus.state_union.words() if w.isalpha()] # list out all the individual words\n",
    "stopwords = nltk.corpus.stopwords.words(\"english\")\n",
    "words = [w for w in words if w.lower() not in stopwords] # change all the capital letter to small letter\n",
    "\n",
    "# tbc......////"
   ]
  },
  {
   "cell_type": "code",
   "execution_count": null,
   "metadata": {},
   "outputs": [],
   "source": []
  }
 ],
 "metadata": {
  "kernelspec": {
   "display_name": "Python 3",
   "language": "python",
   "name": "python3"
  },
  "language_info": {
   "codemirror_mode": {
    "name": "ipython",
    "version": 3
   },
   "file_extension": ".py",
   "mimetype": "text/x-python",
   "name": "python",
   "nbconvert_exporter": "python",
   "pygments_lexer": "ipython3",
   "version": "3.11.5"
  },
  "orig_nbformat": 4
 },
 "nbformat": 4,
 "nbformat_minor": 2
}
