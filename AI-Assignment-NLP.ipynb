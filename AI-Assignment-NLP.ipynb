{
 "cells": [
  {
   "cell_type": "markdown",
   "metadata": {},
   "source": [
    "# NLP: Product Comment Sentiment Analysis\n",
    "\n",
    "**Resources**\n",
    "*   https://www.geeksforgeeks.org/what-is-sentiment-analysis/ (intro)\n",
    "*   https://www.nltk.org/api/nltk.tokenize.html (tokenize - separate sentence into words)\n",
    "*   https://youtu.be/9p1KYtYAus8 (vader lexicon tutorial - for sentiment analysis)\n",
    "*   dataset (#56 from https://www.nltk.org/nltk_data/)\n",
    "*   dataset downloaded from https://www.kaggle.com/datasets/mdwaquarazam/headphone-dataset-review-analysis\n",
    "\n",
    "<br>\n",
    "\n",
    "\n",
    "<br>\n",
    "Documents (bg study, methods etc will do later)\n",
    "\n",
    "> Step 1: Get data (csv file)\n",
    "\n",
    "> Step 2: Pre-processing. Tokenize, Lemmatize, remove stopwords, punctuations etc, then do sentiment analysis\n",
    "\n",
    "> Step 3: Count vectorizer (frequency each words appeared), then identify similarity (use cosine similarity equation, correlation etc.)\n",
    "\n",
    "> Step 4: each of us will choose our preferred method (bayes, knn, k-means)\n",
    "\n",
    "> Step 5: compare the results (from using different methods)\n",
    "\n",
    "\n",
    "\n",
    "\n",
    "\n"
   ]
  },
  {
   "cell_type": "markdown",
   "metadata": {},
   "source": [
    "# Getting Data & Setup\n"
   ]
  },
  {
   "cell_type": "code",
   "execution_count": null,
   "metadata": {},
   "outputs": [],
   "source": [
    "# install nltk (terminal line commands)\n",
    "%pip install nltk\n",
    "%pip install pandas\n",
    "\n",
    "import nltk\n",
    "import site\n",
    "import pandas as pd    # to allow us to read csv file\n",
    "import random\n",
    "from nltk.sentiment.vader import SentimentIntensityAnalyzer\n",
    "from nltk.corpus import stopwords\n",
    "from nltk.tokenize import word_tokenize # for tokenization of words\n",
    "from nltk.stem import WordNetLemmatizer # for lemmatization\n",
    "import re # python's 're' module to create empty strings with pattern that matches pucnctuation marks\n",
    "\n",
    "nltk.download('all')\n",
    "site.getsitepackages() # to find our current path, we imported site, and getsitepackages()"
   ]
  },
  {
   "cell_type": "markdown",
   "metadata": {},
   "source": [
    "# Read data"
   ]
  },
  {
   "cell_type": "code",
   "execution_count": 4,
   "metadata": {},
   "outputs": [],
   "source": [
    "data = pd.read_csv('headphone_datn.csv')"
   ]
  },
  {
   "cell_type": "code",
   "execution_count": 5,
   "metadata": {},
   "outputs": [
    {
     "name": "stdout",
     "output_type": "stream",
     "text": [
      "Customer_Name    1604\n",
      "REVIEW_TITLE     1594\n",
      "Color            1604\n",
      "REVIEW_DATE      1604\n",
      "COMMENTS         1546\n",
      "RATINGS          1604\n",
      "dtype: int64\n"
     ]
    }
   ],
   "source": [
    "# data.head()\n",
    "total = data.count()\n",
    "print(total)"
   ]
  },
  {
   "cell_type": "markdown",
   "metadata": {},
   "source": [
    "# Pre-Processing"
   ]
  },
  {
   "cell_type": "code",
   "execution_count": 7,
   "metadata": {},
   "outputs": [
    {
     "name": "stdout",
     "output_type": "stream",
     "text": [
      "0       [Okay, I, was, skeptical, at, first, to, buy, ...\n",
      "1       [The, earphone, is, worth, what, you, pay, for...\n",
      "2       [Particularly, for, people, with, sensitive, e...\n",
      "3       [Built, Quality, lower, wire, is, a, durable, ...\n",
      "4       [Do, go, with, the, over, all, start, rating, ...\n",
      "                              ...                        \n",
      "1599    [Quite, good, sound, qualityAnd, had, impressi...\n",
      "1600                                                [Osm]\n",
      "1601    [Earphones, fits, well, onto, the, ears, does,...\n",
      "1602    [Sound, quality, very, bad, Over, all, very, b...\n",
      "1603    [This, is, only, for, calls, Mic, is, good, Bu...\n",
      "Name: tokenized, Length: 1604, dtype: object\n"
     ]
    }
   ],
   "source": [
    "# create pre processing function\n",
    "\n",
    "def preprocess_text(text):\n",
    "  # remove punctuations\n",
    "  data['COMMENTS'].dropna(inplace=True)\n",
    "  data['COMMENTS'] = data['COMMENTS'].astype(str)\n",
    "\n",
    "  tokens = nltk.word_tokenize(text)\n",
    "  return [w for w in tokens if w.isalpha()]   \n",
    "  tokens = nltk.word_tokenize(df['COMMENTS'])\n",
    "\n",
    "  # tokenize the text \n",
    "  tokens = word_tokenize(cleaned_text)\n",
    "  return tokens\n",
    "  # remove stop words\n",
    "  filtered_tokens = [token for token in tokens if token not in stopwords.words('english')]\n",
    "\n",
    "  # lemmatize the tokens\n",
    "  lemmatizer = WordNetLemmatizer()\n",
    "  lemmatized_tokens = [lemmatizer.lemmatize(token) for token in filtered_tokens]\n",
    "\n",
    "  #Join the tokens back into a string\n",
    "  processed_text = ' '.join(lemmatized_tokens)\n",
    "  return processed_text\n",
    "\n",
    "\n",
    "data['tokenized'] = data.apply(lambda x: preprocess_text(x['COMMENTS']), axis=1) \n",
    "print(data['tokenized'])\n"
   ]
  },
  {
   "cell_type": "code",
   "execution_count": 8,
   "metadata": {},
   "outputs": [],
   "source": [
    "analyzer = SentimentIntensityAnalyzer()\n",
    "\n",
    "# create get_sentiment function\n",
    "\n",
    "def get_sentiment(text):\n",
    "\n",
    "    scores = analyzer.polarity_scores(text)\n",
    "    sentiment = 1 if scores['pos'] > 0 else 0\n",
    "\n",
    "    return sentiment\n",
    "\n",
    "# apply get_sentiment function\n",
    "\n",
    "data['sentiment'] = data['COMMENTS'].apply(get_sentiment)\n",
    "\n"
   ]
  }
 ],
 "metadata": {
  "kernelspec": {
   "display_name": "Python 3",
   "language": "python",
   "name": "python3"
  },
  "language_info": {
   "codemirror_mode": {
    "name": "ipython",
    "version": 3
   },
   "file_extension": ".py",
   "mimetype": "text/x-python",
   "name": "python",
   "nbconvert_exporter": "python",
   "pygments_lexer": "ipython3",
   "version": "3.9.0"
  },
  "orig_nbformat": 4
 },
 "nbformat": 4,
 "nbformat_minor": 2
}
