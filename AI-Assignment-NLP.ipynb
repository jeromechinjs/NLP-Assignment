{
 "cells": [
  {
   "cell_type": "markdown",
   "metadata": {},
   "source": [
    "#Hi there\n",
    "\n",
    "\n",
    "---\n",
    "\n",
    "**Resources**\n",
    "*   https://www.geeksforgeeks.org/what-is-sentiment-analysis/ (intro)\n",
    "*   https://www.nltk.org/api/nltk.tokenize.html (tokenize - separate sentence into words)\n",
    "*   https://youtu.be/9p1KYtYAus8 (vader lexicon tutorial - for sentiment analysis)\n",
    "*   dataset (#56 from https://www.nltk.org/nltk_data/)\n",
    "*   dataset downloaded from https://www.kaggle.com/datasets/mdwaquarazam/headphone-dataset-review-analysis\n",
    "\n",
    "<br>\n",
    "\n",
    "\n",
    "<br>\n",
    "Documents (bg study, methods etc will do later)\n",
    "\n",
    "> Step 1: Count vectorizer (frequency each words appeared), then identify similarity (use cosine similarity equation, correlation etc.)\n",
    "\n",
    "> Step 2: Tokenize, Pre-process comments, then do sentiment analysis\n",
    "\n",
    "> Step 3: each of us will choose our preferred method (bayes, knn, k-means)\n",
    "\n",
    "> Step 4: compare the results (from using different methods)\n",
    "\n",
    "*lastly, complete our documents then submit :)\n",
    "\n",
    "\n",
    "\n",
    "\n",
    "\n"
   ]
  },
  {
   "cell_type": "code",
   "execution_count": 4,
   "metadata": {},
   "outputs": [
    {
     "name": "stdout",
     "output_type": "stream",
     "text": [
      "Requirement already satisfied: nltk in c:\\users\\user\\appdata\\local\\packages\\pythonsoftwarefoundation.python.3.11_qbz5n2kfra8p0\\localcache\\local-packages\\python311\\site-packages (3.8.1)\n",
      "Requirement already satisfied: click in c:\\users\\user\\appdata\\local\\packages\\pythonsoftwarefoundation.python.3.11_qbz5n2kfra8p0\\localcache\\local-packages\\python311\\site-packages (from nltk) (8.1.7)\n",
      "Requirement already satisfied: joblib in c:\\users\\user\\appdata\\local\\packages\\pythonsoftwarefoundation.python.3.11_qbz5n2kfra8p0\\localcache\\local-packages\\python311\\site-packages (from nltk) (1.3.2)\n",
      "Requirement already satisfied: regex>=2021.8.3 in c:\\users\\user\\appdata\\local\\packages\\pythonsoftwarefoundation.python.3.11_qbz5n2kfra8p0\\localcache\\local-packages\\python311\\site-packages (from nltk) (2023.8.8)\n",
      "Requirement already satisfied: tqdm in c:\\users\\user\\appdata\\local\\packages\\pythonsoftwarefoundation.python.3.11_qbz5n2kfra8p0\\localcache\\local-packages\\python311\\site-packages (from nltk) (4.66.1)\n",
      "Requirement already satisfied: colorama in c:\\users\\user\\appdata\\local\\packages\\pythonsoftwarefoundation.python.3.11_qbz5n2kfra8p0\\localcache\\local-packages\\python311\\site-packages (from click->nltk) (0.4.6)\n",
      "Collecting pandas\n",
      "  Obtaining dependency information for pandas from https://files.pythonhosted.org/packages/b7/f8/32d6b5aa4c4bc045fa2c4c58f88c325facc54721956c6313f0afea8ea853/pandas-2.1.0-cp311-cp311-win_amd64.whl.metadata\n",
      "  Downloading pandas-2.1.0-cp311-cp311-win_amd64.whl.metadata (18 kB)\n",
      "Collecting numpy>=1.23.2 (from pandas)\n",
      "  Obtaining dependency information for numpy>=1.23.2 from https://files.pythonhosted.org/packages/72/b2/02770e60c4e2f7e158d923ab0dea4e9f146a2dbf267fec6d8dc61d475689/numpy-1.25.2-cp311-cp311-win_amd64.whl.metadata\n",
      "  Downloading numpy-1.25.2-cp311-cp311-win_amd64.whl.metadata (5.7 kB)\n",
      "Requirement already satisfied: python-dateutil>=2.8.2 in c:\\users\\user\\appdata\\local\\packages\\pythonsoftwarefoundation.python.3.11_qbz5n2kfra8p0\\localcache\\local-packages\\python311\\site-packages (from pandas) (2.8.2)\n",
      "Collecting pytz>=2020.1 (from pandas)\n",
      "  Obtaining dependency information for pytz>=2020.1 from https://files.pythonhosted.org/packages/32/4d/aaf7eff5deb402fd9a24a1449a8119f00d74ae9c2efa79f8ef9994261fc2/pytz-2023.3.post1-py2.py3-none-any.whl.metadata\n",
      "  Downloading pytz-2023.3.post1-py2.py3-none-any.whl.metadata (22 kB)\n",
      "Collecting tzdata>=2022.1 (from pandas)\n",
      "  Downloading tzdata-2023.3-py2.py3-none-any.whl (341 kB)\n",
      "     ---------------------------------------- 0.0/341.8 kB ? eta -:--:--\n",
      "     ------------------- ------------------ 174.1/341.8 kB 5.3 MB/s eta 0:00:01\n",
      "     -------------------------------------- 341.8/341.8 kB 7.1 MB/s eta 0:00:00\n",
      "Requirement already satisfied: six>=1.5 in c:\\users\\user\\appdata\\local\\packages\\pythonsoftwarefoundation.python.3.11_qbz5n2kfra8p0\\localcache\\local-packages\\python311\\site-packages (from python-dateutil>=2.8.2->pandas) (1.16.0)\n",
      "Downloading pandas-2.1.0-cp311-cp311-win_amd64.whl (11.0 MB)\n",
      "   ---------------------------------------- 0.0/11.0 MB ? eta -:--:--\n",
      "   -- ------------------------------------- 0.8/11.0 MB 16.6 MB/s eta 0:00:01\n",
      "   ------- -------------------------------- 1.9/11.0 MB 24.4 MB/s eta 0:00:01\n",
      "   ----------- ---------------------------- 3.1/11.0 MB 24.3 MB/s eta 0:00:01\n",
      "   --------------- ------------------------ 4.2/11.0 MB 24.3 MB/s eta 0:00:01\n",
      "   ------------------ --------------------- 5.2/11.0 MB 23.8 MB/s eta 0:00:01\n",
      "   ----------------------- ---------------- 6.6/11.0 MB 24.8 MB/s eta 0:00:01\n",
      "   ----------------------------- ---------- 8.0/11.0 MB 25.6 MB/s eta 0:00:01\n",
      "   ---------------------------------- ----- 9.6/11.0 MB 26.7 MB/s eta 0:00:01\n",
      "   -------------------------------------- - 10.7/11.0 MB 27.3 MB/s eta 0:00:01\n",
      "   ---------------------------------------- 11.0/11.0 MB 25.1 MB/s eta 0:00:00\n",
      "Downloading numpy-1.25.2-cp311-cp311-win_amd64.whl (15.5 MB)\n",
      "   ---------------------------------------- 0.0/15.5 MB ? eta -:--:--\n",
      "   ---- ----------------------------------- 1.7/15.5 MB 36.4 MB/s eta 0:00:01\n",
      "   -------- ------------------------------- 3.3/15.5 MB 35.4 MB/s eta 0:00:01\n",
      "   ------------ --------------------------- 4.7/15.5 MB 33.1 MB/s eta 0:00:01\n",
      "   --------------- ------------------------ 6.0/15.5 MB 31.8 MB/s eta 0:00:01\n",
      "   ------------------- -------------------- 7.6/15.5 MB 32.2 MB/s eta 0:00:01\n",
      "   ------------------------ --------------- 9.3/15.5 MB 33.2 MB/s eta 0:00:01\n",
      "   ---------------------------- ----------- 10.9/15.5 MB 32.8 MB/s eta 0:00:01\n",
      "   -------------------------------- ------- 12.6/15.5 MB 32.8 MB/s eta 0:00:01\n",
      "   ------------------------------------ --- 14.1/15.5 MB 34.4 MB/s eta 0:00:01\n",
      "   ---------------------------------------  15.5/15.5 MB 34.4 MB/s eta 0:00:01\n",
      "   ---------------------------------------- 15.5/15.5 MB 29.7 MB/s eta 0:00:00\n",
      "Downloading pytz-2023.3.post1-py2.py3-none-any.whl (502 kB)\n",
      "   ---------------------------------------- 0.0/502.5 kB ? eta -:--:--\n",
      "   --------------------------------------- 502.5/502.5 kB 30.8 MB/s eta 0:00:00\n",
      "Installing collected packages: pytz, tzdata, numpy, pandas\n",
      "Successfully installed numpy-1.25.2 pandas-2.1.0 pytz-2023.3.post1 tzdata-2023.3\n"
     ]
    }
   ],
   "source": [
    "%pip install nltk\n",
    "%pip install pandas"
   ]
  },
  {
   "cell_type": "code",
   "execution_count": 5,
   "metadata": {},
   "outputs": [],
   "source": [
    "# enter: pip install nltk  (when using python)\n",
    "\n",
    "import nltk\n",
    "import pandas as pd    # redundant if run the above codes\n",
    "import random"
   ]
  },
  {
   "cell_type": "code",
   "execution_count": null,
   "metadata": {},
   "outputs": [],
   "source": [
    "data = pd.read_csv('headphone_datn.csv')\n",
    "nltk.download()\n",
    "nltk.download('state_union')\n",
    "nltk.download('stopwords')"
   ]
  },
  {
   "cell_type": "code",
   "execution_count": null,
   "metadata": {},
   "outputs": [],
   "source": [
    "data.head()\n",
    "total = data.count()\n",
    "print(total)"
   ]
  },
  {
   "cell_type": "code",
   "execution_count": null,
   "metadata": {},
   "outputs": [],
   "source": [
    "words = [w for w in nltk.corpus.state_union.words() if w.isalpha()] # list out all the individual words\n",
    "stopwords = nltk.corpus.stopwords.words(\"english\")\n",
    "words = [w for w in words if w.lower() not in stopwords] # change all the capital letter to small letter\n",
    "\n",
    "# tbc......////"
   ]
  },
  {
   "cell_type": "code",
   "execution_count": null,
   "metadata": {},
   "outputs": [],
   "source": []
  }
 ],
 "metadata": {
  "kernelspec": {
   "display_name": "Python 3",
   "language": "python",
   "name": "python3"
  },
  "language_info": {
   "codemirror_mode": {
    "name": "ipython",
    "version": 3
   },
   "file_extension": ".py",
   "mimetype": "text/x-python",
   "name": "python",
   "nbconvert_exporter": "python",
   "pygments_lexer": "ipython3",
   "version": "3.11.5"
  },
  "orig_nbformat": 4
 },
 "nbformat": 4,
 "nbformat_minor": 2
}
